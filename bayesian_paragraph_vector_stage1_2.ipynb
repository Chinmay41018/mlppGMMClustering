{
  "nbformat": 4,
  "nbformat_minor": 0,
  "metadata": {
    "kernelspec": {
      "name": "python3",
      "display_name": "Python 3"
    },
    "language_info": {
      "codemirror_mode": {
        "name": "ipython",
        "version": 3
      },
      "file_extension": ".py",
      "mimetype": "text/x-python",
      "name": "python",
      "nbconvert_exporter": "python",
      "pygments_lexer": "ipython3",
      "version": "3.7.5"
    },
    "colab": {
      "name": "bayesian_paragraph_vector.ipynb",
      "provenance": [],
      "collapsed_sections": []
    },
    "accelerator": "GPU"
  },
  "cells": [
    {
      "cell_type": "code",
      "metadata": {
        "id": "FfmKgsoabi6T",
        "colab_type": "code",
        "outputId": "21f3b1d8-9ef1-46f2-c00c-3ceb8ab1a5ff",
        "colab": {
          "base_uri": "https://localhost:8080/",
          "height": 131
        }
      },
      "source": [
        "!pip install pyro-ppl"
      ],
      "execution_count": 1,
      "outputs": [
        {
          "output_type": "stream",
          "text": [
            "Requirement already satisfied: pyro-ppl in /usr/local/lib/python3.6/dist-packages (0.5.1)\n",
            "Requirement already satisfied: numpy>=1.7 in /usr/local/lib/python3.6/dist-packages (from pyro-ppl) (1.17.4)\n",
            "Requirement already satisfied: graphviz>=0.8 in /usr/local/lib/python3.6/dist-packages (from pyro-ppl) (0.10.1)\n",
            "Requirement already satisfied: opt-einsum>=2.3.2 in /usr/local/lib/python3.6/dist-packages (from pyro-ppl) (3.1.0)\n",
            "Requirement already satisfied: torch>=1.3.0 in /usr/local/lib/python3.6/dist-packages (from pyro-ppl) (1.3.1+cu100)\n",
            "Requirement already satisfied: tqdm>=4.36 in /usr/local/lib/python3.6/dist-packages (from pyro-ppl) (4.38.0)\n",
            "Requirement already satisfied: pyro-api>=0.1.1 in /usr/local/lib/python3.6/dist-packages (from pyro-ppl) (0.1.1)\n"
          ],
          "name": "stdout"
        }
      ]
    },
    {
      "cell_type": "code",
      "metadata": {
        "id": "UEnyP6GJbTRV",
        "colab_type": "code",
        "colab": {}
      },
      "source": [
        "import pyro \n",
        "import torch \n",
        "import pandas as pd \n",
        "import numpy as np \n",
        "import matplotlib.pyplot as plt\n",
        "from torch.autograd import Variable"
      ],
      "execution_count": 0,
      "outputs": []
    },
    {
      "cell_type": "code",
      "metadata": {
        "id": "3ivbGHiubTRZ",
        "colab_type": "code",
        "colab": {}
      },
      "source": [
        "import pyro.distributions as dist\n",
        "from torch.nn import Embedding\n",
        "import ast\n",
        "from tqdm import tqdm\n",
        "from collections import Counter "
      ],
      "execution_count": 0,
      "outputs": []
    },
    {
      "cell_type": "code",
      "metadata": {
        "id": "EQy3BD0yC8fP",
        "colab_type": "code",
        "colab": {}
      },
      "source": [
        "from pyro.contrib.autoguide import AutoDiagonalNormal\n",
        "from pyro.optim import Adam\n",
        "from pyro.infer import SVI, Trace_ELBO\n",
        "from pyro.infer import EmpiricalMarginal, SVI, Trace_ELBO, TracePredictive\n"
      ],
      "execution_count": 0,
      "outputs": []
    },
    {
      "cell_type": "code",
      "metadata": {
        "id": "JuLARkBtbTRb",
        "colab_type": "code",
        "colab": {}
      },
      "source": [
        "dat = pd.read_csv('./cleaned_documents.csv')"
      ],
      "execution_count": 0,
      "outputs": []
    },
    {
      "cell_type": "code",
      "metadata": {
        "id": "R8VgKGTTbTRe",
        "colab_type": "code",
        "colab": {}
      },
      "source": [
        "E = 100 # size of embedding\n",
        "sent = []\n",
        "for each in dat.text:\n",
        "    sent = sent + ast.literal_eval(each)\n",
        "W = len(np.unique(sent))"
      ],
      "execution_count": 0,
      "outputs": []
    },
    {
      "cell_type": "code",
      "metadata": {
        "id": "8wE4G4MzbTRg",
        "colab_type": "code",
        "outputId": "ffee11ea-6d11-47f8-fd72-f06242090d9d",
        "colab": {
          "base_uri": "https://localhost:8080/",
          "height": 33
        }
      },
      "source": [
        "print(W)"
      ],
      "execution_count": 7,
      "outputs": [
        {
          "output_type": "stream",
          "text": [
            "15673\n"
          ],
          "name": "stdout"
        }
      ]
    },
    {
      "cell_type": "code",
      "metadata": {
        "id": "G-TUdMzBbTRj",
        "colab_type": "code",
        "colab": {}
      },
      "source": [
        "words= np.unique(sent)\n",
        "word2idx = {word:idx for idx, word in enumerate(words)}\n",
        "idx2word = {idx:word for idx, word in enumerate(words)}"
      ],
      "execution_count": 0,
      "outputs": []
    },
    {
      "cell_type": "code",
      "metadata": {
        "id": "Pka635tNbTRm",
        "colab_type": "code",
        "colab": {}
      },
      "source": [
        "uni_freq = Counter(words)"
      ],
      "execution_count": 0,
      "outputs": []
    },
    {
      "cell_type": "code",
      "metadata": {
        "id": "8DLCueSUbTRp",
        "colab_type": "code",
        "colab": {}
      },
      "source": [
        "for each in uni_freq:\n",
        "    uni_freq[each] = uni_freq[each]**0.75\n",
        "deno = sum(uni_freq.values())\n",
        "for each in uni_freq:\n",
        "    uni_freq[each] = uni_freq[each]/deno\n"
      ],
      "execution_count": 0,
      "outputs": []
    },
    {
      "cell_type": "markdown",
      "metadata": {
        "id": "6WpNzWogbTRr",
        "colab_type": "text"
      },
      "source": [
        "### For each document in the corpus, we get x_n^+ and x_n^- by looking at context window and negative sampling. \n",
        "Ref : https://arxiv.org/pdf/1711.03946.pdf"
      ]
    },
    {
      "cell_type": "code",
      "metadata": {
        "id": "XH1vdJHrbTRs",
        "colab_type": "code",
        "colab": {}
      },
      "source": [
        "# Hard coding context window size to 3.\n",
        "c = 2\n",
        "neg_samples = 2*c\n",
        "def get_pos_neg_sample(dat):\n",
        "    x_plus = []\n",
        "    x_neg = []\n",
        "    uni_keys = list(uni_freq.keys())\n",
        "    uni_values = list(uni_freq.values())\n",
        "    for each in dat.text:\n",
        "        x_plus_n = []\n",
        "        x_neg_n = []\n",
        "        sentence = ast.literal_eval(each)\n",
        "        random_sample = np.random.choice(uni_keys, len(sentence)*neg_samples, p = uni_values)\n",
        "        r_i = 0\n",
        "        for idx, token in enumerate(sentence):\n",
        "            context = sentence[max(idx-c,0):min(idx+c+1, len(sentence))]\n",
        "            context.remove(token)\n",
        "            for every in context:\n",
        "                x_plus_n.append((word2idx[token], word2idx[every]))\n",
        "                \n",
        "            for sample in random_sample[r_i:r_i+len(context)]:\n",
        "                x_neg_n.append((word2idx[token], word2idx[sample]))\n",
        "            r_i+=len(context)\n",
        "            \n",
        "        x_plus.append(x_plus_n)\n",
        "        x_neg.append(x_neg_n)\n",
        "    return x_plus, x_neg"
      ],
      "execution_count": 0,
      "outputs": []
    },
    {
      "cell_type": "code",
      "metadata": {
        "id": "8Gtk5vp893VZ",
        "colab_type": "code",
        "colab": {}
      },
      "source": [
        ""
      ],
      "execution_count": 0,
      "outputs": []
    },
    {
      "cell_type": "code",
      "metadata": {
        "id": "yMO4TqMqbTRw",
        "colab_type": "code",
        "colab": {}
      },
      "source": [
        "x_plus, x_neg = get_pos_neg_sample(dat)"
      ],
      "execution_count": 0,
      "outputs": []
    },
    {
      "cell_type": "markdown",
      "metadata": {
        "id": "G9EVN6lFbTRy",
        "colab_type": "text"
      },
      "source": [
        "# Stage 1 : Update U,V using sgd\n"
      ]
    },
    {
      "cell_type": "code",
      "metadata": {
        "id": "Cz3sF7Nk_8IX",
        "colab_type": "code",
        "colab": {}
      },
      "source": [
        "\n",
        "def get_loss(U,V, d_i, X_plus, X_neg):\n",
        "  return -torch.sum(-torch.log(1+torch.exp(-torch.bmm(U[X_plus[:,0]].view(U[X_plus[:,0]].shape[0], 1,E) ,\n",
        "                                                            (V[X_plus[:,1]]+d_i).view((V[X_plus[:,1]]+d_i).shape[0], E, 1))))) - torch.sum(-torch.log(1+torch.exp(-torch.bmm(-U[X_neg[:,0]].view(U[X_neg[:,0]].shape[0], 1, E) ,\n",
        "                                                            (V[X_neg[:,1]]+d_i).view((V[X_neg[:,1]]+d_i).shape[0], E, 1)))))"
      ],
      "execution_count": 0,
      "outputs": []
    },
    {
      "cell_type": "code",
      "metadata": {
        "id": "4H6qKx0e_lJw",
        "colab_type": "code",
        "colab": {}
      },
      "source": [
        ""
      ],
      "execution_count": 0,
      "outputs": []
    },
    {
      "cell_type": "code",
      "metadata": {
        "id": "xmMpPRIbAUnO",
        "colab_type": "code",
        "colab": {
          "base_uri": "https://localhost:8080/",
          "height": 391
        },
        "outputId": "d7d4b350-ddb4-453e-ebcb-7cbc7ab54a61"
      },
      "source": [
        "lamb = 0.01\n",
        "phi = 0.01\n",
        "annealed_rate = 0.001\n",
        "alpha = 0.89\n",
        "n_iter = 100\n",
        "loss = []\n",
        "U = torch.distributions.MultivariateNormal(torch.zeros(W,E), lamb**2 *torch.eye(E)).rsample()\n",
        "V = torch.distributions.MultivariateNormal(torch.zeros(W,E), lamb**2 *torch.eye(E)).rsample()\n",
        "U.requires_grad=True\n",
        "V.requires_grad=True\n",
        "optimizer = torch.optim.SGD([U, V], lr = 0.01, momentum = 0.9)\n",
        "len_ = len(x_plus)\n",
        "for it in range(1):\n",
        "  for n in range(len_):\n",
        "      for g in optimizer.param_groups:\n",
        "        g['lr'] *= alpha\n",
        "\n",
        "      d_i = Variable(torch.distributions.MultivariateNormal( torch.zeros(E), phi*torch.eye(E)).rsample(), requires_grad=True)\n",
        "      opti = torch.optim.Adam([d_i], lr = 1)\n",
        "\n",
        "      X_plus = torch.tensor(x_plus[n])\n",
        "      X_neg = torch.tensor(x_neg[n])\n",
        "      #SGD for d_i\n",
        "      for iterat in range(n_iter):\n",
        "          # Loss function\n",
        "          opti.zero_grad()\n",
        "          logProb = get_loss(U,V, d_i, X_plus, X_neg)\n",
        "          logProb.backward()\n",
        "          opti.step()\n",
        "          # if iterat==0 or iterat==n_iter-1:\n",
        "          #   print(\"Iter : {}, logprob : {}\".format(iterat, logProb))\n",
        "      \n",
        "      optimizer.zero_grad()\n",
        "      log_loss = get_loss(U,V, d_i, X_plus, X_neg)\n",
        "\n",
        "      log_loss.backward()\n",
        "      optimizer.step()\n",
        "      loss.append(log_loss)\n",
        "      if n%100==0:\n",
        "          print(\"Iteration : {}, logProb : {}\".format(n+1, logProb))\n"
      ],
      "execution_count": 14,
      "outputs": [
        {
          "output_type": "stream",
          "text": [
            "Iteration : 1, logProb : 1111.790771484375\n",
            "Iteration : 101, logProb : 745.8311767578125\n",
            "Iteration : 201, logProb : 1194.9864501953125\n",
            "Iteration : 301, logProb : 734.7484130859375\n",
            "Iteration : 401, logProb : 740.2967529296875\n",
            "Iteration : 501, logProb : 590.5520629882812\n",
            "Iteration : 601, logProb : 967.637939453125\n",
            "Iteration : 701, logProb : 762.4527587890625\n",
            "Iteration : 801, logProb : 1084.0684814453125\n",
            "Iteration : 901, logProb : 939.9390869140625\n",
            "Iteration : 1001, logProb : 496.2939147949219\n",
            "Iteration : 1101, logProb : 679.2923583984375\n",
            "Iteration : 1201, logProb : 812.39501953125\n",
            "Iteration : 1301, logProb : 1660.74853515625\n",
            "Iteration : 1401, logProb : 418.6253662109375\n",
            "Iteration : 1501, logProb : 579.4488525390625\n",
            "Iteration : 1601, logProb : 906.6395263671875\n",
            "Iteration : 1701, logProb : 1699.54638671875\n",
            "Iteration : 1801, logProb : 2026.769287109375\n",
            "Iteration : 1901, logProb : 1932.48291015625\n",
            "Iteration : 2001, logProb : 740.2838134765625\n",
            "Iteration : 2101, logProb : 1605.291748046875\n",
            "Iteration : 2201, logProb : 884.438720703125\n"
          ],
          "name": "stdout"
        }
      ]
    },
    {
      "cell_type": "code",
      "metadata": {
        "id": "99De96DKj5DB",
        "colab_type": "code",
        "colab": {
          "base_uri": "https://localhost:8080/",
          "height": 281
        },
        "outputId": "5363411a-4935-4e76-b40a-162429b0ed93"
      },
      "source": [
        "plt.plot(loss)"
      ],
      "execution_count": 15,
      "outputs": [
        {
          "output_type": "execute_result",
          "data": {
            "text/plain": [
              "[<matplotlib.lines.Line2D at 0x7f1755857cc0>]"
            ]
          },
          "metadata": {
            "tags": []
          },
          "execution_count": 15
        },
        {
          "output_type": "display_data",
          "data": {
            "image/png": "[encoded data removed]",
            "text/plain": [
              "<Figure size 432x288 with 1 Axes>"
            ]
          },
          "metadata": {
            "tags": []
          }
        }
      ]
    },
    {
      "cell_type": "code",
      "metadata": {
        "id": "deWzzGEmbTRz",
        "colab_type": "code",
        "colab": {}
      },
      "source": [
        "# lamb = 0.01\n",
        "# phi = 0.01\n",
        "# annealed_rate = 0.001\n",
        "# alpha = 0.89\n",
        "# n_iter = 100\n",
        "# loss = []\n",
        "# U = torch.distributions.MultivariateNormal(torch.zeros(W,E), lamb**2 *torch.eye(E)).rsample()\n",
        "# V = torch.distributions.MultivariateNormal(torch.zeros(W,E), lamb**2 *torch.eye(E)).rsample()\n",
        "# U.requires_grad=True\n",
        "# V.requires_grad=True\n",
        "# for it in range(100):\n",
        "#   for n in range(1):\n",
        "#       annealed_rate = annealed_rate * alpha\n",
        "#       d_i = Variable(torch.distributions.MultivariateNormal( torch.zeros(E), phi*torch.eye(E)).rsample(), requires_grad=True)\n",
        "#       X_plus = torch.tensor(x_plus[0])\n",
        "#       X_neg = torch.tensor(x_neg[0])\n",
        "#       #SGD for d_i\n",
        "#       for iterat in range(n_iter):\n",
        "#           # Loss function\n",
        "#           logProb = torch.sum(-torch.log(1+torch.exp(-torch.bmm(U[X_plus[:,0]].view(U[X_plus[:,0]].shape[0], \n",
        "#                                                                                     1,\n",
        "#                                                                                     E) ,\n",
        "#                                                                 (V[X_plus[:,1]]+d_i).view((V[X_plus[:,1]]+d_i).shape[0],\n",
        "#                                                                                           E,\n",
        "#                                                                                           1)))))\n",
        "#           logProb += torch.sum(-torch.log(1+torch.exp(-torch.bmm(-U[X_neg[:,0]].view(U[X_neg[:,0]].shape[0], \n",
        "#                                                                                     1,\n",
        "#                                                                                     E) ,\n",
        "#                                                                 (V[X_neg[:,1]]+d_i).view((V[X_neg[:,1]]+d_i).shape[0],\n",
        "#                                                                                           E,\n",
        "#                                                                                           1)))))\n",
        "\n",
        "\n",
        "#           d_i.retain_grad()\n",
        "#           logProb.backward()\n",
        "#           temp = d_i.grad\n",
        "#           d_i = d_i+temp\n",
        "#           # if iterat==0 or iterat==n_iter-1:\n",
        "#           #   print(\"Iter : {}, logprob : {}, gradient : {}\".format(iterat, logProb, torch.mean(temp)))\n",
        "#       # SGD for U_i, V_j\n",
        "      \n",
        "#       logProb = torch.sum(-torch.log(1+torch.exp(-torch.bmm(U[X_plus[:,0]].view(U[X_plus[:,0]].shape[0], \n",
        "#                                                                                 1,\n",
        "#                                                                                 E) ,\n",
        "#                                                             (V[X_plus[:,1]]+d_i).view((V[X_plus[:,1]]+d_i).shape[0],\n",
        "#                                                                                       E,\n",
        "#                                                                                       1)))))\n",
        "#       logProb += torch.sum(-torch.log(1+torch.exp(-torch.bmm(-U[X_neg[:,0]].view(U[X_neg[:,0]].shape[0], \n",
        "#                                                                                 1,\n",
        "#                                                                                 E) ,\n",
        "#                                                             (V[X_neg[:,1]]+d_i).view((V[X_neg[:,1]]+d_i).shape[0],\n",
        "#                                                                                       E,\n",
        "#                                                                                       1)))))\n",
        "\n",
        "#       loss.append(logProb)\n",
        "#       U.retain_grad()\n",
        "#       V.retain_grad()\n",
        "#       logProb.backward()\n",
        "#       if n%100==0:\n",
        "#           print(\"Iteration : {}, logProb : {}, it  : {}\".format(n+1, logProb, it))\n",
        "#       U = U + annealed_rate * U.grad\n",
        "#       V = V + annealed_rate * V.grad"
      ],
      "execution_count": 0,
      "outputs": []
    },
    {
      "cell_type": "code",
      "metadata": {
        "id": "YZrswaCVDm4M",
        "colab_type": "code",
        "colab": {}
      },
      "source": [
        "import pickle \n"
      ],
      "execution_count": 0,
      "outputs": []
    },
    {
      "cell_type": "code",
      "metadata": {
        "id": "RXh4K-aYD0uy",
        "colab_type": "code",
        "colab": {}
      },
      "source": [
        "torch.save(U, \"U\")"
      ],
      "execution_count": 0,
      "outputs": []
    },
    {
      "cell_type": "code",
      "metadata": {
        "id": "0WFZEjGJEFP6",
        "colab_type": "code",
        "colab": {}
      },
      "source": [
        "torch.save(V,\"V\")"
      ],
      "execution_count": 0,
      "outputs": []
    },
    {
      "cell_type": "markdown",
      "metadata": {
        "id": "OVjczhWvbTSD",
        "colab_type": "text"
      },
      "source": [
        "# Stage 2 : Fix U,V and update d (doc vector) using SVI "
      ]
    },
    {
      "cell_type": "code",
      "metadata": {
        "id": "6XogAl0TEIxt",
        "colab_type": "code",
        "colab": {
          "base_uri": "https://localhost:8080/",
          "height": 33
        },
        "outputId": "4c08c847-97f8-4355-e750-43b456c7251d"
      },
      "source": [
        "!ls"
      ],
      "execution_count": 20,
      "outputs": [
        {
          "output_type": "stream",
          "text": [
            "cleaned_documents.csv  sample_data  U  V\n"
          ],
          "name": "stdout"
        }
      ]
    },
    {
      "cell_type": "code",
      "metadata": {
        "id": "ian_pmiU94r8",
        "colab_type": "code",
        "colab": {}
      },
      "source": [
        "def model(X_full, Y_full, U, V):\n",
        "    lamb = 0.01\n",
        "    phi = 0.01\n",
        "    annealed_rate = 0.001\n",
        "    alpha = 0.999\n",
        "    n_iter = 100\n",
        "    with pyro.plate('K', len(X_full)):\n",
        "        d_i = pyro.sample(\"d_i\", dist.MultivariateNormal( torch.zeros(E), phi*torch.eye(E)))\n",
        "    with pyro.plate('observations', len(X_full), 1) as idx:\n",
        "      X = torch.tensor(X_full[idx])\n",
        "      Y = Y_full[idx]\n",
        "      logit = torch.bmm(U[X[:,0]].view(U[X[:,0]].shape[0], 1, E) ,(V[X[:,1]]+d_i[idx]).view((V[X[:,1]]+d_i[idx]).shape[0],E,1))\n",
        "      target = pyro.sample('obs', dist.Bernoulli(logits=logit), obs=Y)\n",
        "    return d_i"
      ],
      "execution_count": 0,
      "outputs": []
    },
    {
      "cell_type": "code",
      "metadata": {
        "id": "1aFwJX2w_tf7",
        "colab_type": "code",
        "colab": {}
      },
      "source": [
        "guide_di = AutoDiagonalNormal(model)\n",
        "optim = Adam({\"lr\":0.01})\n",
        "svi_di = SVI(model,guide_di,optim,loss=Trace_ELBO())"
      ],
      "execution_count": 0,
      "outputs": []
    },
    {
      "cell_type": "code",
      "metadata": {
        "id": "J9KMIpmS_vYD",
        "colab_type": "code",
        "colab": {
          "base_uri": "https://localhost:8080/",
          "height": 70
        },
        "outputId": "cee36e42-db68-47b3-e226-af54df75d56b"
      },
      "source": [
        "def train_d_i(x_plus,x_neg, U, V):\n",
        "    lamb = 0.01\n",
        "    phi = 0.01\n",
        "    annealed_rate = 0.001\n",
        "    alpha = 0.999\n",
        "    n_iter = 100\n",
        "    losses = []\n",
        "    pyro.clear_param_store()\n",
        "    X = []\n",
        "    Y = []\n",
        "    for idx,_ in enumerate(x_plus):\n",
        "        X_plus = torch.tensor(x_plus[idx])\n",
        "        X_neg = torch.tensor(x_neg[idx])\n",
        "        X_n = torch.cat((X_plus,X_neg))\n",
        "        Y_n = torch.tensor([float(1) for each in range(len(X_plus))] + [float(0) for each in range(len(X_neg))])\n",
        "        X.append(X_n)\n",
        "        Y.append(Y_n)\n",
        "    for i in range(100):\n",
        "        loss = svi_di.step(X, Y, U, V)\n",
        "        losses.append(loss)\n",
        "    return losses\n",
        "losses = train_d_i(x_plus,x_neg, U, V)"
      ],
      "execution_count": 26,
      "outputs": [
        {
          "output_type": "stream",
          "text": [
            "/usr/local/lib/python3.6/dist-packages/ipykernel_launcher.py:10: UserWarning: To copy construct from a tensor, it is recommended to use sourceTensor.clone().detach() or sourceTensor.clone().detach().requires_grad_(True), rather than torch.tensor(sourceTensor).\n",
            "  # Remove the CWD from sys.path while we load stuff.\n"
          ],
          "name": "stderr"
        }
      ]
    },
    {
      "cell_type": "code",
      "metadata": {
        "id": "ZlS91bmZLrmO",
        "colab_type": "code",
        "colab": {}
      },
      "source": [
        ""
      ],
      "execution_count": 0,
      "outputs": []
    },
    {
      "cell_type": "code",
      "metadata": {
        "id": "u7uPIiwlWKP6",
        "colab_type": "code",
        "colab": {
          "base_uri": "https://localhost:8080/",
          "height": 33
        },
        "outputId": "6565b0f7-d551-4717-867d-63225ab0c7b5"
      },
      "source": [
        "pyro.get_param_store().keys()"
      ],
      "execution_count": 27,
      "outputs": [
        {
          "output_type": "execute_result",
          "data": {
            "text/plain": [
              "dict_keys(['auto_loc', 'auto_scale'])"
            ]
          },
          "metadata": {
            "tags": []
          },
          "execution_count": 27
        }
      ]
    },
    {
      "cell_type": "code",
      "metadata": {
        "id": "ImsxYFpiHCXq",
        "colab_type": "code",
        "colab": {
          "base_uri": "https://localhost:8080/",
          "height": 292
        },
        "outputId": "5666933d-2c69-4afd-e789-b6d46e7f91f0"
      },
      "source": [
        "import matplotlib.pyplot as plt\n",
        "\n",
        "plt.plot(losses)"
      ],
      "execution_count": 28,
      "outputs": [
        {
          "output_type": "execute_result",
          "data": {
            "text/plain": [
              "[<matplotlib.lines.Line2D at 0x7f175526bc18>]"
            ]
          },
          "metadata": {
            "tags": []
          },
          "execution_count": 28
        },
        {
          "output_type": "display_data",
          "data": {
            "image/png": "[encoded data removed]",
            "text/plain": [
              "<Figure size 432x288 with 1 Axes>"
            ]
          },
          "metadata": {
            "tags": []
          }
        }
      ]
    },
    {
      "cell_type": "code",
      "metadata": {
        "id": "8oPf6gyzGDnp",
        "colab_type": "code",
        "colab": {
          "base_uri": "https://localhost:8080/",
          "height": 33
        },
        "outputId": "6d1d3675-5671-46e9-956b-4d300fbaa594"
      },
      "source": [
        "U.shape, V.shape"
      ],
      "execution_count": 29,
      "outputs": [
        {
          "output_type": "execute_result",
          "data": {
            "text/plain": [
              "(torch.Size([15673, 100]), torch.Size([15673, 100]))"
            ]
          },
          "metadata": {
            "tags": []
          },
          "execution_count": 29
        }
      ]
    },
    {
      "cell_type": "code",
      "metadata": {
        "id": "V53RmNyE98Hu",
        "colab_type": "code",
        "colab": {}
      },
      "source": [
        "get_marginal = lambda traces, sites:EmpiricalMarginal(traces, sites)._get_samples_and_weights()[0].detach().cpu().numpy()\n",
        "\n",
        "def summary(traces, sites):\n",
        "    marginal = get_marginal(traces, sites)\n",
        "    site_stats = {}\n",
        "    for i in range(marginal.shape[1]):\n",
        "        site_name = sites[i]\n",
        "        site_stats[site_name] = np.mean(marginal[:, i], axis = 0)\n",
        "    return site_stats\n",
        "\n",
        "def wrapped_model(X_full, Y_full, U, V):\n",
        "    pyro.sample(\"prediction\", dist.Delta(model(X_full, Y_full, U, V)))\n",
        "\n",
        "X_full = x_plus\n",
        "Y_full = x_neg\n",
        "\n",
        "posterior = svi_di.run(X_full, Y_full, U, V)\n",
        "\n",
        "# posterior predictive distribution we can get samples from\n",
        "trace_pred = TracePredictive(wrapped_model,\n",
        "                             posterior,\n",
        "                             num_samples=1000)\n",
        "post_pred = trace_pred.run(X_full, Y_full, U, V)\n",
        "post_summary = summary(post_pred, sites= ['d_i'])\n",
        "d_i = post_summary[\"d_i\"]\n"
      ],
      "execution_count": 0,
      "outputs": []
    },
    {
      "cell_type": "code",
      "metadata": {
        "id": "EozKazJOKRJQ",
        "colab_type": "code",
        "colab": {
          "base_uri": "https://localhost:8080/",
          "height": 33
        },
        "outputId": "c6815907-c7bb-461b-e302-da3c5b63bd68"
      },
      "source": [
        "d_i.shape"
      ],
      "execution_count": 31,
      "outputs": [
        {
          "output_type": "execute_result",
          "data": {
            "text/plain": [
              "(2225, 100)"
            ]
          },
          "metadata": {
            "tags": []
          },
          "execution_count": 31
        }
      ]
    },
    {
      "cell_type": "code",
      "metadata": {
        "id": "atPFdPTzbTR7",
        "colab_type": "code",
        "colab": {
          "base_uri": "https://localhost:8080/",
          "height": 33
        },
        "outputId": "3e9c35ac-812b-4126-f5d8-b7d8f5f668e9"
      },
      "source": [
        "np.dot(d_i[0],d_i[1])/(np.linalg.norm(d_i[0]) * np.linalg.norm(d_i[1]))"
      ],
      "execution_count": 34,
      "outputs": [
        {
          "output_type": "execute_result",
          "data": {
            "text/plain": [
              "0.70285106"
            ]
          },
          "metadata": {
            "tags": []
          },
          "execution_count": 34
        }
      ]
    },
    {
      "cell_type": "code",
      "metadata": {
        "id": "yqzc8ECNbTR9",
        "colab_type": "code",
        "colab": {}
      },
      "source": [
        "# logProb = torch.Value(0,requires_gradient=True)\n"
      ],
      "execution_count": 0,
      "outputs": []
    },
    {
      "cell_type": "code",
      "metadata": {
        "id": "ZQT-uk1DbTSA",
        "colab_type": "code",
        "outputId": "d8921f9e-a62b-48c5-f0bd-0e67aab0c1da",
        "colab": {
          "base_uri": "https://localhost:8080/",
          "height": 281
        }
      },
      "source": [
        "plt.plot(loss)"
      ],
      "execution_count": 33,
      "outputs": [
        {
          "output_type": "execute_result",
          "data": {
            "text/plain": [
              "[<matplotlib.lines.Line2D at 0x7f175473b6a0>]"
            ]
          },
          "metadata": {
            "tags": []
          },
          "execution_count": 33
        },
        {
          "output_type": "display_data",
          "data": {
            "image/png": "[encoded data removed]",
            "text/plain": [
              "<Figure size 432x288 with 1 Axes>"
            ]
          },
          "metadata": {
            "tags": []
          }
        }
      ]
    },
    {
      "cell_type": "code",
      "metadata": {
        "id": "GvBSKceYbTSE",
        "colab_type": "code",
        "colab": {}
      },
      "source": [
        ""
      ],
      "execution_count": 0,
      "outputs": []
    }
  ]
}