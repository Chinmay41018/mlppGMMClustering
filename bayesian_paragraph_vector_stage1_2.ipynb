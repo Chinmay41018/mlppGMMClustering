{
 "cells": [
  {
   "cell_type": "code",
   "execution_count": 1,
   "metadata": {
    "colab": {
     "base_uri": "https://localhost:8080/",
     "height": 131
    },
    "colab_type": "code",
    "id": "FfmKgsoabi6T",
    "outputId": "21f3b1d8-9ef1-46f2-c00c-3ceb8ab1a5ff"
   },
   "outputs": [
    {
     "name": "stdout",
     "output_type": "stream",
     "text": [
      "Requirement already satisfied: pyro-ppl in /usr/local/lib/python3.6/dist-packages (0.5.1)\n",
      "Requirement already satisfied: numpy>=1.7 in /usr/local/lib/python3.6/dist-packages (from pyro-ppl) (1.17.4)\n",
      "Requirement already satisfied: graphviz>=0.8 in /usr/local/lib/python3.6/dist-packages (from pyro-ppl) (0.10.1)\n",
      "Requirement already satisfied: opt-einsum>=2.3.2 in /usr/local/lib/python3.6/dist-packages (from pyro-ppl) (3.1.0)\n",
      "Requirement already satisfied: torch>=1.3.0 in /usr/local/lib/python3.6/dist-packages (from pyro-ppl) (1.3.1+cu100)\n",
      "Requirement already satisfied: tqdm>=4.36 in /usr/local/lib/python3.6/dist-packages (from pyro-ppl) (4.38.0)\n",
      "Requirement already satisfied: pyro-api>=0.1.1 in /usr/local/lib/python3.6/dist-packages (from pyro-ppl) (0.1.1)\n"
     ]
    }
   ],
   "source": [
    "!pip install pyro-ppl"
   ]
  },
  {
   "cell_type": "code",
   "execution_count": 1,
   "metadata": {
    "colab": {},
    "colab_type": "code",
    "id": "UEnyP6GJbTRV"
   },
   "outputs": [],
   "source": [
    "import pyro \n",
    "import torch \n",
    "import pandas as pd \n",
    "import numpy as np \n",
    "import matplotlib.pyplot as plt\n",
    "from torch.autograd import Variable"
   ]
  },
  {
   "cell_type": "code",
   "execution_count": 9,
   "metadata": {
    "colab": {},
    "colab_type": "code",
    "id": "3ivbGHiubTRZ"
   },
   "outputs": [],
   "source": [
    "import pyro.distributions as dist\n",
    "from torch.nn import Embedding\n",
    "import ast\n",
    "from tqdm import tqdm\n",
    "from collections import Counter \n",
    "import itertools"
   ]
  },
  {
   "cell_type": "code",
   "execution_count": 3,
   "metadata": {
    "colab": {},
    "colab_type": "code",
    "id": "EQy3BD0yC8fP"
   },
   "outputs": [],
   "source": [
    "from pyro.contrib.autoguide import AutoDiagonalNormal\n",
    "from pyro.optim import Adam\n",
    "from pyro.infer import SVI, Trace_ELBO\n",
    "from pyro.infer import EmpiricalMarginal, SVI, Trace_ELBO, TracePredictive\n"
   ]
  },
  {
   "cell_type": "code",
   "execution_count": 6,
   "metadata": {
    "colab": {},
    "colab_type": "code",
    "id": "JuLARkBtbTRb"
   },
   "outputs": [],
   "source": [
    "dat = pd.read_csv('./data/cleaned_documents_imdb.csv',converters = {\"text\":ast.literal_eval})"
   ]
  },
  {
   "cell_type": "code",
   "execution_count": 7,
   "metadata": {
    "colab": {},
    "colab_type": "code",
    "id": "R8VgKGTTbTRe"
   },
   "outputs": [],
   "source": [
    "E = 100 # size of embedding\n"
   ]
  },
  {
   "cell_type": "code",
   "execution_count": 20,
   "metadata": {
    "colab": {},
    "colab_type": "code",
    "id": "G-TUdMzBbTRj"
   },
   "outputs": [],
   "source": [
    "words= list(itertools.chain.from_iterable(dat.text))\n",
    "uni_freq = Counter(words)\n",
    "words = set(words)\n",
    "word2idx = {word:idx for idx, word in enumerate(words)}\n",
    "idx2word = {idx:word for idx, word in enumerate(words)}\n",
    "W = len(set(words))"
   ]
  },
  {
   "cell_type": "code",
   "execution_count": null,
   "metadata": {
    "colab": {},
    "colab_type": "code",
    "id": "Pka635tNbTRm"
   },
   "outputs": [],
   "source": []
  },
  {
   "cell_type": "code",
   "execution_count": 22,
   "metadata": {
    "colab": {},
    "colab_type": "code",
    "id": "8DLCueSUbTRp"
   },
   "outputs": [],
   "source": [
    "for each in uni_freq:\n",
    "    uni_freq[each] = uni_freq[each]**0.75\n",
    "deno = sum(uni_freq.values())\n",
    "for each in uni_freq:\n",
    "    uni_freq[each] = uni_freq[each]/deno\n"
   ]
  },
  {
   "cell_type": "markdown",
   "metadata": {
    "colab_type": "text",
    "id": "6WpNzWogbTRr"
   },
   "source": [
    "### For each document in the corpus, we get x_n^+ and x_n^- by looking at context window and negative sampling. \n",
    "Ref : https://arxiv.org/pdf/1711.03946.pdf"
   ]
  },
  {
   "cell_type": "code",
   "execution_count": 23,
   "metadata": {
    "colab": {},
    "colab_type": "code",
    "id": "XH1vdJHrbTRs"
   },
   "outputs": [],
   "source": [
    "# Hard coding context window size to 3.\n",
    "c = 4\n",
    "neg_samples = 2*c\n",
    "def get_pos_neg_sample(dat):\n",
    "    x_plus = []\n",
    "    x_neg = []\n",
    "    uni_keys = list(uni_freq.keys())\n",
    "    uni_values = list(uni_freq.values())\n",
    "    for each in dat.text:\n",
    "        x_plus_n = []\n",
    "        x_neg_n = []\n",
    "        sentence = each\n",
    "        random_sample = np.random.choice(uni_keys, len(sentence)*neg_samples, p = uni_values)\n",
    "        r_i = 0\n",
    "        for idx, token in enumerate(sentence):\n",
    "            context = sentence[max(idx-c,0):min(idx+c+1, len(sentence))]\n",
    "            context.remove(token)\n",
    "            for every in context:\n",
    "                x_plus_n.append((word2idx[token], word2idx[every]))\n",
    "                \n",
    "            for sample in random_sample[r_i:r_i+len(context)]:\n",
    "                x_neg_n.append((word2idx[token], word2idx[sample]))\n",
    "            r_i+=len(context)\n",
    "            \n",
    "        x_plus.append(x_plus_n)\n",
    "        x_neg.append(x_neg_n)\n",
    "    return x_plus, x_neg"
   ]
  },
  {
   "cell_type": "code",
   "execution_count": null,
   "metadata": {
    "colab": {},
    "colab_type": "code",
    "id": "8Gtk5vp893VZ"
   },
   "outputs": [],
   "source": []
  },
  {
   "cell_type": "code",
   "execution_count": 24,
   "metadata": {
    "colab": {},
    "colab_type": "code",
    "id": "yMO4TqMqbTRw"
   },
   "outputs": [],
   "source": [
    "x_plus, x_neg = get_pos_neg_sample(dat)"
   ]
  },
  {
   "cell_type": "markdown",
   "metadata": {
    "colab_type": "text",
    "id": "G9EVN6lFbTRy"
   },
   "source": [
    "# Stage 1 : Update U,V using sgd\n"
   ]
  },
  {
   "cell_type": "code",
   "execution_count": 25,
   "metadata": {
    "colab": {},
    "colab_type": "code",
    "id": "Cz3sF7Nk_8IX"
   },
   "outputs": [],
   "source": [
    "\n",
    "def get_loss(U,V, d_i, X_plus, X_neg):\n",
    "    return -torch.sum(-torch.log(1+torch.exp(-torch.bmm(U[X_plus[:,0]].view(U[X_plus[:,0]].shape[0], 1,E) ,\n",
    "                                                            (V[X_plus[:,1]]+d_i).view((V[X_plus[:,1]]+d_i).shape[0], E, 1))))) - torch.sum(-torch.log(1+torch.exp(-torch.bmm(-U[X_neg[:,0]].view(U[X_neg[:,0]].shape[0], 1, E) ,\n",
    "                                                            (V[X_neg[:,1]]+d_i).view((V[X_neg[:,1]]+d_i).shape[0], E, 1)))))"
   ]
  },
  {
   "cell_type": "code",
   "execution_count": null,
   "metadata": {
    "colab": {},
    "colab_type": "code",
    "id": "4H6qKx0e_lJw"
   },
   "outputs": [],
   "source": []
  },
  {
   "cell_type": "code",
   "execution_count": 27,
   "metadata": {
    "colab": {
     "base_uri": "https://localhost:8080/",
     "height": 391
    },
    "colab_type": "code",
    "id": "xmMpPRIbAUnO",
    "outputId": "d7d4b350-ddb4-453e-ebcb-7cbc7ab54a61",
    "scrolled": false
   },
   "outputs": [
    {
     "name": "stdout",
     "output_type": "stream",
     "text": [
      "Iteration : 1, logProb : 8869.95703125\n",
      "Iteration : 101, logProb : 3521.80517578125\n",
      "Iteration : 201, logProb : 2307.836181640625\n",
      "Iteration : 301, logProb : 2827.96826171875\n",
      "Iteration : 401, logProb : 10664.88671875\n",
      "Iteration : 501, logProb : 3685.301025390625\n",
      "Iteration : 601, logProb : 2143.28271484375\n",
      "Iteration : 701, logProb : 2324.98486328125\n",
      "Iteration : 801, logProb : 2134.4931640625\n",
      "Iteration : 901, logProb : 1626.3974609375\n",
      "Iteration : 1001, logProb : 1836.1510009765625\n",
      "Iteration : 1101, logProb : 4073.9501953125\n",
      "Iteration : 1201, logProb : 1756.0419921875\n",
      "Iteration : 1301, logProb : 615.437255859375\n",
      "Iteration : 1401, logProb : 822.646240234375\n",
      "Iteration : 1501, logProb : 1738.0552978515625\n",
      "Iteration : 1601, logProb : 2344.734375\n",
      "Iteration : 1701, logProb : 5920.548828125\n",
      "Iteration : 1801, logProb : 5801.314453125\n",
      "Iteration : 1901, logProb : 1601.67333984375\n",
      "Iteration : 2001, logProb : nan\n",
      "Iteration : 2101, logProb : nan\n",
      "Iteration : 2201, logProb : nan\n",
      "Iteration : 2301, logProb : nan\n",
      "Iteration : 2401, logProb : nan\n",
      "Iteration : 2501, logProb : nan\n",
      "Iteration : 2601, logProb : nan\n"
     ]
    },
    {
     "ename": "KeyboardInterrupt",
     "evalue": "",
     "output_type": "error",
     "traceback": [
      "\u001b[0;31m---------------------------------------------------------------------------\u001b[0m",
      "\u001b[0;31mKeyboardInterrupt\u001b[0m                         Traceback (most recent call last)",
      "\u001b[0;32m<ipython-input-27-c8c77ef1eb30>\u001b[0m in \u001b[0;36m<module>\u001b[0;34m\u001b[0m\n\u001b[1;32m     24\u001b[0m             \u001b[0mopti\u001b[0m\u001b[0;34m.\u001b[0m\u001b[0mzero_grad\u001b[0m\u001b[0;34m(\u001b[0m\u001b[0;34m)\u001b[0m\u001b[0;34m\u001b[0m\u001b[0;34m\u001b[0m\u001b[0m\n\u001b[1;32m     25\u001b[0m             \u001b[0mlogProb\u001b[0m \u001b[0;34m=\u001b[0m \u001b[0mget_loss\u001b[0m\u001b[0;34m(\u001b[0m\u001b[0mU\u001b[0m\u001b[0;34m,\u001b[0m\u001b[0mV\u001b[0m\u001b[0;34m,\u001b[0m \u001b[0md_i\u001b[0m\u001b[0;34m,\u001b[0m \u001b[0mX_plus\u001b[0m\u001b[0;34m,\u001b[0m \u001b[0mX_neg\u001b[0m\u001b[0;34m)\u001b[0m\u001b[0;34m\u001b[0m\u001b[0;34m\u001b[0m\u001b[0m\n\u001b[0;32m---> 26\u001b[0;31m             \u001b[0mlogProb\u001b[0m\u001b[0;34m.\u001b[0m\u001b[0mbackward\u001b[0m\u001b[0;34m(\u001b[0m\u001b[0;34m)\u001b[0m\u001b[0;34m\u001b[0m\u001b[0;34m\u001b[0m\u001b[0m\n\u001b[0m\u001b[1;32m     27\u001b[0m             \u001b[0mopti\u001b[0m\u001b[0;34m.\u001b[0m\u001b[0mstep\u001b[0m\u001b[0;34m(\u001b[0m\u001b[0;34m)\u001b[0m\u001b[0;34m\u001b[0m\u001b[0;34m\u001b[0m\u001b[0m\n\u001b[1;32m     28\u001b[0m             \u001b[0;31m# if iterat==0 or iterat==n_iter-1:\u001b[0m\u001b[0;34m\u001b[0m\u001b[0;34m\u001b[0m\u001b[0;34m\u001b[0m\u001b[0m\n",
      "\u001b[0;32m/usr/local/lib/python3.7/site-packages/torch/tensor.py\u001b[0m in \u001b[0;36mbackward\u001b[0;34m(self, gradient, retain_graph, create_graph)\u001b[0m\n\u001b[1;32m    148\u001b[0m                 \u001b[0mproducts\u001b[0m\u001b[0;34m.\u001b[0m \u001b[0mDefaults\u001b[0m \u001b[0mto\u001b[0m\u001b[0;31m \u001b[0m\u001b[0;31m`\u001b[0m\u001b[0;31m`\u001b[0m\u001b[0;32mFalse\u001b[0m\u001b[0;31m`\u001b[0m\u001b[0;31m`\u001b[0m\u001b[0;34m.\u001b[0m\u001b[0;34m\u001b[0m\u001b[0;34m\u001b[0m\u001b[0m\n\u001b[1;32m    149\u001b[0m         \"\"\"\n\u001b[0;32m--> 150\u001b[0;31m         \u001b[0mtorch\u001b[0m\u001b[0;34m.\u001b[0m\u001b[0mautograd\u001b[0m\u001b[0;34m.\u001b[0m\u001b[0mbackward\u001b[0m\u001b[0;34m(\u001b[0m\u001b[0mself\u001b[0m\u001b[0;34m,\u001b[0m \u001b[0mgradient\u001b[0m\u001b[0;34m,\u001b[0m \u001b[0mretain_graph\u001b[0m\u001b[0;34m,\u001b[0m \u001b[0mcreate_graph\u001b[0m\u001b[0;34m)\u001b[0m\u001b[0;34m\u001b[0m\u001b[0;34m\u001b[0m\u001b[0m\n\u001b[0m\u001b[1;32m    151\u001b[0m \u001b[0;34m\u001b[0m\u001b[0m\n\u001b[1;32m    152\u001b[0m     \u001b[0;32mdef\u001b[0m \u001b[0mregister_hook\u001b[0m\u001b[0;34m(\u001b[0m\u001b[0mself\u001b[0m\u001b[0;34m,\u001b[0m \u001b[0mhook\u001b[0m\u001b[0;34m)\u001b[0m\u001b[0;34m:\u001b[0m\u001b[0;34m\u001b[0m\u001b[0;34m\u001b[0m\u001b[0m\n",
      "\u001b[0;32m/usr/local/lib/python3.7/site-packages/torch/autograd/__init__.py\u001b[0m in \u001b[0;36mbackward\u001b[0;34m(tensors, grad_tensors, retain_graph, create_graph, grad_variables)\u001b[0m\n\u001b[1;32m     97\u001b[0m     Variable._execution_engine.run_backward(\n\u001b[1;32m     98\u001b[0m         \u001b[0mtensors\u001b[0m\u001b[0;34m,\u001b[0m \u001b[0mgrad_tensors\u001b[0m\u001b[0;34m,\u001b[0m \u001b[0mretain_graph\u001b[0m\u001b[0;34m,\u001b[0m \u001b[0mcreate_graph\u001b[0m\u001b[0;34m,\u001b[0m\u001b[0;34m\u001b[0m\u001b[0;34m\u001b[0m\u001b[0m\n\u001b[0;32m---> 99\u001b[0;31m         allow_unreachable=True)  # allow_unreachable flag\n\u001b[0m\u001b[1;32m    100\u001b[0m \u001b[0;34m\u001b[0m\u001b[0m\n\u001b[1;32m    101\u001b[0m \u001b[0;34m\u001b[0m\u001b[0m\n",
      "\u001b[0;31mKeyboardInterrupt\u001b[0m: "
     ]
    }
   ],
   "source": [
    "lamb = 1\n",
    "phi = 1\n",
    "annealed_rate = 0.001\n",
    "alpha = 0.9999\n",
    "n_iter = 100\n",
    "loss = []\n",
    "U = torch.distributions.MultivariateNormal(torch.zeros(W,E), lamb**2 *torch.eye(E)).rsample()\n",
    "V = torch.distributions.MultivariateNormal(torch.zeros(W,E), lamb**2 *torch.eye(E)).rsample()\n",
    "U.requires_grad=True\n",
    "V.requires_grad=True\n",
    "optimizer = torch.optim.SGD([U, V], lr = 0.01)\n",
    "len_ = len(x_plus)\n",
    "for it in range(5):\n",
    "    for n in range(len_):\n",
    "        for g in optimizer.param_groups:\n",
    "            g['lr'] *= alpha\n",
    "        d_i = Variable(torch.distributions.MultivariateNormal( torch.zeros(E), phi*torch.eye(E)).rsample(), requires_grad=True)\n",
    "        opti = torch.optim.Adam([d_i], lr = 1)\n",
    "        X_plus = torch.tensor(x_plus[n])\n",
    "        X_neg = torch.tensor(x_neg[n])\n",
    "        #SGD for d_i\n",
    "        for iterat in range(n_iter):\n",
    "            # Loss function\n",
    "            opti.zero_grad()\n",
    "            logProb = get_loss(U,V, d_i, X_plus, X_neg)\n",
    "            logProb.backward()\n",
    "            opti.step()\n",
    "            # if iterat==0 or iterat==n_iter-1:\n",
    "            #   print(\"Iter : {}, logprob : {}\".format(iterat, logProb))\n",
    "        optimizer.zero_grad()\n",
    "        log_loss = get_loss(U,V, d_i, X_plus, X_neg)\n",
    "        log_loss.backward()\n",
    "        optimizer.step()\n",
    "        loss.append(log_loss)\n",
    "        if n%100==0:\n",
    "            print(\"Iteration : {}, logProb : {}\".format(n+1, logProb))\n"
   ]
  },
  {
   "cell_type": "code",
   "execution_count": 23,
   "metadata": {
    "colab": {
     "base_uri": "https://localhost:8080/",
     "height": 281
    },
    "colab_type": "code",
    "id": "99De96DKj5DB",
    "outputId": "5363411a-4935-4e76-b40a-162429b0ed93"
   },
   "outputs": [
    {
     "data": {
      "text/plain": [
       "[<matplotlib.lines.Line2D at 0x7f7e2f2d3e48>]"
      ]
     },
     "execution_count": 23,
     "metadata": {},
     "output_type": "execute_result"
    },
    {
     "data": {
      "image/png": "[encoded data removed]",
      "text/plain": [
       "<Figure size 432x288 with 1 Axes>"
      ]
     },
     "metadata": {
      "needs_background": "light"
     },
     "output_type": "display_data"
    }
   ],
   "source": [
    "iterationLoss = []\n",
    "for i in range(5):\n",
    "    count = 0\n",
    "    for j in range(len_):\n",
    "        count += loss[i+j]\n",
    "    iterationLoss.append(count)\n",
    "plt.plot(np.log(np.array(iterationLoss)))"
   ]
  },
  {
   "cell_type": "code",
   "execution_count": 0,
   "metadata": {
    "colab": {},
    "colab_type": "code",
    "id": "deWzzGEmbTRz"
   },
   "outputs": [],
   "source": [
    "# lamb = 0.01\n",
    "# phi = 0.01\n",
    "# annealed_rate = 0.001\n",
    "# alpha = 0.89\n",
    "# n_iter = 100\n",
    "# loss = []\n",
    "# U = torch.distributions.MultivariateNormal(torch.zeros(W,E), lamb**2 *torch.eye(E)).rsample()\n",
    "# V = torch.distributions.MultivariateNormal(torch.zeros(W,E), lamb**2 *torch.eye(E)).rsample()\n",
    "# U.requires_grad=True\n",
    "# V.requires_grad=True\n",
    "# for it in range(100):\n",
    "#   for n in range(1):\n",
    "#       annealed_rate = annealed_rate * alpha\n",
    "#       d_i = Variable(torch.distributions.MultivariateNormal( torch.zeros(E), phi*torch.eye(E)).rsample(), requires_grad=True)\n",
    "#       X_plus = torch.tensor(x_plus[0])\n",
    "#       X_neg = torch.tensor(x_neg[0])\n",
    "#       #SGD for d_i\n",
    "#       for iterat in range(n_iter):\n",
    "#           # Loss function\n",
    "#           logProb = torch.sum(-torch.log(1+torch.exp(-torch.bmm(U[X_plus[:,0]].view(U[X_plus[:,0]].shape[0], \n",
    "#                                                                                     1,\n",
    "#                                                                                     E) ,\n",
    "#                                                                 (V[X_plus[:,1]]+d_i).view((V[X_plus[:,1]]+d_i).shape[0],\n",
    "#                                                                                           E,\n",
    "#                                                                                           1)))))\n",
    "#           logProb += torch.sum(-torch.log(1+torch.exp(-torch.bmm(-U[X_neg[:,0]].view(U[X_neg[:,0]].shape[0], \n",
    "#                                                                                     1,\n",
    "#                                                                                     E) ,\n",
    "#                                                                 (V[X_neg[:,1]]+d_i).view((V[X_neg[:,1]]+d_i).shape[0],\n",
    "#                                                                                           E,\n",
    "#                                                                                           1)))))\n",
    "\n",
    "\n",
    "#           d_i.retain_grad()\n",
    "#           logProb.backward()\n",
    "#           temp = d_i.grad\n",
    "#           d_i = d_i+temp\n",
    "#           # if iterat==0 or iterat==n_iter-1:\n",
    "#           #   print(\"Iter : {}, logprob : {}, gradient : {}\".format(iterat, logProb, torch.mean(temp)))\n",
    "#       # SGD for U_i, V_j\n",
    "      \n",
    "#       logProb = torch.sum(-torch.log(1+torch.exp(-torch.bmm(U[X_plus[:,0]].view(U[X_plus[:,0]].shape[0], \n",
    "#                                                                                 1,\n",
    "#                                                                                 E) ,\n",
    "#                                                             (V[X_plus[:,1]]+d_i).view((V[X_plus[:,1]]+d_i).shape[0],\n",
    "#                                                                                       E,\n",
    "#                                                                                       1)))))\n",
    "#       logProb += torch.sum(-torch.log(1+torch.exp(-torch.bmm(-U[X_neg[:,0]].view(U[X_neg[:,0]].shape[0], \n",
    "#                                                                                 1,\n",
    "#                                                                                 E) ,\n",
    "#                                                             (V[X_neg[:,1]]+d_i).view((V[X_neg[:,1]]+d_i).shape[0],\n",
    "#                                                                                       E,\n",
    "#                                                                                       1)))))\n",
    "\n",
    "#       loss.append(logProb)\n",
    "#       U.retain_grad()\n",
    "#       V.retain_grad()\n",
    "#       logProb.backward()\n",
    "#       if n%100==0:\n",
    "#           print(\"Iteration : {}, logProb : {}, it  : {}\".format(n+1, logProb, it))\n",
    "#       U = U + annealed_rate * U.grad\n",
    "#       V = V + annealed_rate * V.grad"
   ]
  },
  {
   "cell_type": "code",
   "execution_count": 0,
   "metadata": {
    "colab": {},
    "colab_type": "code",
    "id": "YZrswaCVDm4M"
   },
   "outputs": [],
   "source": [
    "import pickle \n"
   ]
  },
  {
   "cell_type": "code",
   "execution_count": 19,
   "metadata": {
    "colab": {},
    "colab_type": "code",
    "id": "RXh4K-aYD0uy"
   },
   "outputs": [],
   "source": [
    "torch.save(U, \"U\")"
   ]
  },
  {
   "cell_type": "code",
   "execution_count": 20,
   "metadata": {
    "colab": {},
    "colab_type": "code",
    "id": "0WFZEjGJEFP6"
   },
   "outputs": [],
   "source": [
    "torch.save(V,\"V\")"
   ]
  },
  {
   "cell_type": "markdown",
   "metadata": {
    "colab_type": "text",
    "id": "OVjczhWvbTSD"
   },
   "source": [
    "# Stage 2 : Fix U,V and update d (doc vector) using SVI "
   ]
  },
  {
   "cell_type": "code",
   "execution_count": 20,
   "metadata": {
    "colab": {
     "base_uri": "https://localhost:8080/",
     "height": 33
    },
    "colab_type": "code",
    "id": "6XogAl0TEIxt",
    "outputId": "4c08c847-97f8-4355-e750-43b456c7251d"
   },
   "outputs": [
    {
     "name": "stdout",
     "output_type": "stream",
     "text": [
      "cleaned_documents.csv  sample_data  U  V\n"
     ]
    }
   ],
   "source": [
    "!ls"
   ]
  },
  {
   "cell_type": "code",
   "execution_count": 36,
   "metadata": {
    "colab": {},
    "colab_type": "code",
    "id": "ian_pmiU94r8"
   },
   "outputs": [],
   "source": [
    "def model(X_full, Y_full, U, V):\n",
    "    lamb = 0.01\n",
    "    phi = 0.01\n",
    "    annealed_rate = 0.001\n",
    "    alpha = 0.999\n",
    "    n_iter = 100\n",
    "    with pyro.plate('K', len(X_full)):\n",
    "        d_i = pyro.sample(\"d_i\", dist.MultivariateNormal( torch.zeros(E), phi*torch.eye(E)))\n",
    "    with pyro.plate('observations', len(X_full), 1) as idx:\n",
    "      X = torch.tensor(X_full[idx])\n",
    "      Y = Y_full[idx]\n",
    "      logit = torch.bmm(U[X[:,0]].view(U[X[:,0]].shape[0], 1, E) ,(V[X[:,1]]+d_i[idx]).view((V[X[:,1]]+d_i[idx]).shape[0],E,1))\n",
    "      target = pyro.sample('obs', dist.Bernoulli(logits=logit), obs=Y)\n",
    "    return d_i"
   ]
  },
  {
   "cell_type": "code",
   "execution_count": 37,
   "metadata": {
    "colab": {},
    "colab_type": "code",
    "id": "1aFwJX2w_tf7"
   },
   "outputs": [],
   "source": [
    "guide_di = AutoDiagonalNormal(model)\n",
    "optim = Adam({\"lr\":0.01})\n",
    "svi_di = SVI(model,guide_di,optim,loss=Trace_ELBO())"
   ]
  },
  {
   "cell_type": "code",
   "execution_count": 39,
   "metadata": {
    "colab": {
     "base_uri": "https://localhost:8080/",
     "height": 70
    },
    "colab_type": "code",
    "id": "J9KMIpmS_vYD",
    "outputId": "cee36e42-db68-47b3-e226-af54df75d56b"
   },
   "outputs": [
    {
     "name": "stderr",
     "output_type": "stream",
     "text": [
      "/home/chinmay41018/.local/lib/python3.5/site-packages/ipykernel_launcher.py:10: UserWarning: To copy construct from a tensor, it is recommended to use sourceTensor.clone().detach() or sourceTensor.clone().detach().requires_grad_(True), rather than torch.tensor(sourceTensor).\n",
      "  # Remove the CWD from sys.path while we load stuff.\n"
     ]
    }
   ],
   "source": [
    "def train_d_i(x_plus,x_neg, U, V):\n",
    "    lamb = 0.01\n",
    "    phi = 0.01\n",
    "    annealed_rate = 0.001\n",
    "    alpha = 0.999\n",
    "    n_iter = 1000\n",
    "    losses = []\n",
    "    pyro.clear_param_store()\n",
    "    X = []\n",
    "    Y = []\n",
    "    for idx,_ in enumerate(x_plus):\n",
    "        X_plus = torch.tensor(x_plus[idx])\n",
    "        X_neg = torch.tensor(x_neg[idx])\n",
    "        X_n = torch.cat((X_plus,X_neg))\n",
    "        Y_n = torch.tensor([float(1) for each in range(len(X_plus))] + [float(0) for each in range(len(X_neg))])\n",
    "        X.append(X_n)\n",
    "        Y.append(Y_n)\n",
    "    for i in range(n_iter):\n",
    "        loss = svi_di.step(X, Y, U, V)\n",
    "        losses.append(loss)\n",
    "    return losses\n",
    "losses = train_d_i(x_plus,x_neg, U, V)"
   ]
  },
  {
   "cell_type": "code",
   "execution_count": 61,
   "metadata": {
    "colab": {},
    "colab_type": "code",
    "id": "ZlS91bmZLrmO"
   },
   "outputs": [],
   "source": [
    "a,b = U[word2idx[\"reporter\"]], U[word2idx[\"media\"]]"
   ]
  },
  {
   "cell_type": "code",
   "execution_count": 62,
   "metadata": {},
   "outputs": [],
   "source": [
    "a = a.data.numpy()\n",
    "b = b.data.numpy()"
   ]
  },
  {
   "cell_type": "code",
   "execution_count": 63,
   "metadata": {},
   "outputs": [
    {
     "data": {
      "text/plain": [
       "0.047921818"
      ]
     },
     "execution_count": 63,
     "metadata": {},
     "output_type": "execute_result"
    }
   ],
   "source": [
    "np.dot(a,b)/(np.linalg.norm(a)*np.linalg.norm(b))"
   ]
  },
  {
   "cell_type": "code",
   "execution_count": 40,
   "metadata": {
    "colab": {
     "base_uri": "https://localhost:8080/",
     "height": 33
    },
    "colab_type": "code",
    "id": "u7uPIiwlWKP6",
    "outputId": "6565b0f7-d551-4717-867d-63225ab0c7b5"
   },
   "outputs": [
    {
     "data": {
      "text/plain": [
       "dict_keys(['auto_loc', 'auto_scale'])"
      ]
     },
     "execution_count": 40,
     "metadata": {},
     "output_type": "execute_result"
    }
   ],
   "source": [
    "pyro.get_param_store().keys()"
   ]
  },
  {
   "cell_type": "code",
   "execution_count": 41,
   "metadata": {
    "colab": {
     "base_uri": "https://localhost:8080/",
     "height": 292
    },
    "colab_type": "code",
    "id": "ImsxYFpiHCXq",
    "outputId": "5666933d-2c69-4afd-e789-b6d46e7f91f0"
   },
   "outputs": [
    {
     "data": {
      "text/plain": [
       "[<matplotlib.lines.Line2D at 0x7f7e2b604550>]"
      ]
     },
     "execution_count": 41,
     "metadata": {},
     "output_type": "execute_result"
    },
    {
     "data": {
      "image/png": "[encoded data removed]",
      "text/plain": [
       "<Figure size 432x288 with 1 Axes>"
      ]
     },
     "metadata": {
      "needs_background": "light"
     },
     "output_type": "display_data"
    }
   ],
   "source": [
    "import matplotlib.pyplot as plt\n",
    "\n",
    "plt.plot(losses)"
   ]
  },
  {
   "cell_type": "code",
   "execution_count": 42,
   "metadata": {
    "colab": {
     "base_uri": "https://localhost:8080/",
     "height": 33
    },
    "colab_type": "code",
    "id": "8oPf6gyzGDnp",
    "outputId": "6d1d3675-5671-46e9-956b-4d300fbaa594"
   },
   "outputs": [
    {
     "data": {
      "text/plain": [
       "(torch.Size([15673, 100]), torch.Size([15673, 100]))"
      ]
     },
     "execution_count": 42,
     "metadata": {},
     "output_type": "execute_result"
    }
   ],
   "source": [
    "U.shape, V.shape"
   ]
  },
  {
   "cell_type": "code",
   "execution_count": 43,
   "metadata": {
    "colab": {},
    "colab_type": "code",
    "id": "V53RmNyE98Hu"
   },
   "outputs": [],
   "source": [
    "get_marginal = lambda traces, sites:EmpiricalMarginal(traces, sites)._get_samples_and_weights()[0].detach().cpu().numpy()\n",
    "\n",
    "def summary(traces, sites):\n",
    "    marginal = get_marginal(traces, sites)\n",
    "    site_stats = {}\n",
    "    for i in range(marginal.shape[1]):\n",
    "        site_name = sites[i]\n",
    "        site_stats[site_name] = np.mean(marginal[:, i], axis = 0)\n",
    "    return site_stats\n",
    "\n",
    "def wrapped_model(X_full, Y_full, U, V):\n",
    "    pyro.sample(\"prediction\", dist.Delta(model(X_full, Y_full, U, V)))\n",
    "\n",
    "X_full = x_plus\n",
    "Y_full = x_neg\n",
    "\n",
    "posterior = svi_di.run(X_full, Y_full, U, V)\n",
    "\n",
    "# posterior predictive distribution we can get samples from\n",
    "trace_pred = TracePredictive(wrapped_model,\n",
    "                             posterior,\n",
    "                             num_samples=1000)\n",
    "post_pred = trace_pred.run(X_full, Y_full, U, V)\n",
    "post_summary = summary(post_pred, sites= ['d_i'])\n",
    "d_i = post_summary[\"d_i\"]\n"
   ]
  },
  {
   "cell_type": "code",
   "execution_count": 31,
   "metadata": {
    "colab": {
     "base_uri": "https://localhost:8080/",
     "height": 33
    },
    "colab_type": "code",
    "id": "EozKazJOKRJQ",
    "outputId": "c6815907-c7bb-461b-e302-da3c5b63bd68"
   },
   "outputs": [
    {
     "data": {
      "text/plain": [
       "(2225, 100)"
      ]
     },
     "execution_count": 31,
     "metadata": {},
     "output_type": "execute_result"
    }
   ],
   "source": [
    "d_i.shape"
   ]
  },
  {
   "cell_type": "code",
   "execution_count": 32,
   "metadata": {
    "colab": {
     "base_uri": "https://localhost:8080/",
     "height": 33
    },
    "colab_type": "code",
    "id": "atPFdPTzbTR7",
    "outputId": "3e9c35ac-812b-4126-f5d8-b7d8f5f668e9"
   },
   "outputs": [
    {
     "data": {
      "text/plain": [
       "0.7021808"
      ]
     },
     "execution_count": 32,
     "metadata": {},
     "output_type": "execute_result"
    }
   ],
   "source": [
    "np.dot(d_i[0],d_i[1])/(np.linalg.norm(d_i[0]) * np.linalg.norm(d_i[1]))"
   ]
  },
  {
   "cell_type": "code",
   "execution_count": 33,
   "metadata": {
    "colab": {},
    "colab_type": "code",
    "id": "yqzc8ECNbTR9"
   },
   "outputs": [],
   "source": [
    "# logProb = torch.Value(0,requires_gradient=True)\n"
   ]
  },
  {
   "cell_type": "code",
   "execution_count": 34,
   "metadata": {
    "colab": {
     "base_uri": "https://localhost:8080/",
     "height": 281
    },
    "colab_type": "code",
    "id": "ZQT-uk1DbTSA",
    "outputId": "d8921f9e-a62b-48c5-f0bd-0e67aab0c1da"
   },
   "outputs": [
    {
     "data": {
      "text/plain": [
       "[<matplotlib.lines.Line2D at 0x7f7e2bb16160>]"
      ]
     },
     "execution_count": 34,
     "metadata": {},
     "output_type": "execute_result"
    },
    {
     "data": {
      "image/png": "[encoded data removed]",
      "text/plain": [
       "<Figure size 432x288 with 1 Axes>"
      ]
     },
     "metadata": {
      "needs_background": "light"
     },
     "output_type": "display_data"
    }
   ],
   "source": [
    "plt.plot(loss)"
   ]
  },
  {
   "cell_type": "code",
   "execution_count": null,
   "metadata": {
    "colab": {},
    "colab_type": "code",
    "id": "GvBSKceYbTSE"
   },
   "outputs": [],
   "source": []
  },
  {
   "cell_type": "code",
   "execution_count": 35,
   "metadata": {},
   "outputs": [],
   "source": [
    "torch.save(d_i,\"di\")"
   ]
  }
 ],
 "metadata": {
  "accelerator": "GPU",
  "colab": {
   "collapsed_sections": [],
   "name": "bayesian_paragraph_vector.ipynb",
   "provenance": []
  },
  "kernelspec": {
   "display_name": "Python 3",
   "language": "python",
   "name": "python3"
  },
  "language_info": {
   "codemirror_mode": {
    "name": "ipython",
    "version": 3
   },
   "file_extension": ".py",
   "mimetype": "text/x-python",
   "name": "python",
   "nbconvert_exporter": "python",
   "pygments_lexer": "ipython3",
   "version": "3.5.2"
  }
 },
 "nbformat": 4,
 "nbformat_minor": 1
}
